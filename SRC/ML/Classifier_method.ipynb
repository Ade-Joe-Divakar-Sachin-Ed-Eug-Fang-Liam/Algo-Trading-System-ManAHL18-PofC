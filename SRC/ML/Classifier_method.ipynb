{
 "cells": [
  {
   "cell_type": "code",
   "execution_count": null,
   "metadata": {
    "collapsed": true
   },
   "outputs": [],
   "source": [
    "import pandas as pd \n",
    "import numpy as np\n",
    "from sklearn import cross_validation\n",
    "from sklearn.metrics import confusion_matrix\n",
    "\n",
    "def run_classification_model(train_data,test_data, ind_var, dep_var, method_name, cv = False):\n",
    "    \"\"\"\n",
    "    train_data : trainning data -- must be a pandas dataframe \n",
    "    test_data  : test part of the data -- must be a pandas dataframe \n",
    "    dep_var : name of the dependent variable as a string name \n",
    "    method_name : name of the classification method to be used in the analysis\n",
    "    cv : number of cross-validations to be used \n",
    "    \"\"\"\n",
    "    X = train_data[ind_var]\n",
    "    y = test_data[dep_var]\n",
    "    method_name.fit(X,y)\n",
    "    predictions = method_name.predict(test_data[ind_Var])\n",
    "    if cv:\n",
    "        CV = cross_validation.KFold(len(X), n_folds= cv, indices=False)\n",
    "        print cross_validation.cross_val_score(method_name, X, y, cv=CV, n_jobs=1))\n",
    "    print(\"Confusion Matrix: \\n{}\".format(confusion_matrix(predictions, test_data[dep_var])))\n",
    "    return predictions\n",
    "    \n",
    "def run_multiple_classifiers(train_data,test_data, ind_var, dep_var, method_names, cv = False):\n",
    "     \"\"\"\n",
    "    train_data : trainning data -- must be a pandas dataframe \n",
    "    test_data  : test part of the data -- must be a pandas dataframe \n",
    "    dep_var : name of the dependent variable as a string name \n",
    "    method_names : names of the classification method to be used in the analysis in the list format \n",
    "    cv : number of cross-validations to be used \n",
    "    \"\"\"\n",
    "    result = pd.pd.DataFrame(Date=test_data[:,0].values\n",
    "    i = 1\n",
    "    for method in method_names:\n",
    "        result['Method_'+ i] = run_classification_model(train_data,test_data, ind_var, dep_var, method, cv)\n",
    "        i = i + 1\n",
    "    return result\n",
    "\n"
   ]
  },
  {
   "cell_type": "code",
   "execution_count": null,
   "metadata": {
    "collapsed": true
   },
   "outputs": [],
   "source": []
  }
 ],
 "metadata": {
  "kernelspec": {
   "display_name": "Python [default]",
   "language": "python",
   "name": "python2"
  },
  "language_info": {
   "codemirror_mode": {
    "name": "ipython",
    "version": 2
   },
   "file_extension": ".py",
   "mimetype": "text/x-python",
   "name": "python",
   "nbconvert_exporter": "python",
   "pygments_lexer": "ipython2",
   "version": "2.7.13"
  }
 },
 "nbformat": 4,
 "nbformat_minor": 2
}
