{
 "cells": [
  {
   "cell_type": "code",
   "execution_count": 1,
   "metadata": {},
   "outputs": [],
   "source": [
    "import quandl\n",
    "import pandas as pd\n",
    "import numpy as np\n",
    "import matplotlib.pyplot as plt\n",
    "%matplotlib inline"
   ]
  },
  {
   "cell_type": "code",
   "execution_count": 2,
   "metadata": {},
   "outputs": [],
   "source": [
    "quandl.ApiConfig.api_key = 'iB1vwTHbXzBdG755yy2W'"
   ]
  },
  {
   "cell_type": "code",
   "execution_count": 8,
   "metadata": {},
   "outputs": [],
   "source": [
    "class Macro_Series:\n",
    "    def __init__(self,name,dataframe):\n",
    "        print(name)\n",
    "        self.name = name\n",
    "        self.df = dataframe\n",
    "        \n",
    "        time_data = self.get_df_date_info(dataframe)\n",
    "        self.direction = time_data[0]\n",
    "        self.start_date = time_data[1]\n",
    "        self.end_date = time_data[2]\n",
    "    \n",
    "    ## returns direction of a time sorted df from earliest time -> more recent time, start date and end date.\n",
    "    def get_df_date_info(self,series):\n",
    "        d1 = series.iloc[0].name\n",
    "        d2 = series.iloc[-1].name\n",
    "        if d1 < d2:\n",
    "            #low -> high\n",
    "            return [1, d1, d2]\n",
    "        if d2 < d1:\n",
    "            #high -> low\n",
    "            return [-1, d2, d1]"
   ]
  },
  {
   "cell_type": "code",
   "execution_count": 9,
   "metadata": {},
   "outputs": [],
   "source": [
    "def get_macro_data():\n",
    "    macro_data = {}\n",
    "    macro_data['us_gdp_potential'] = Macro_Series( 'us_gdp_potential',quandl.get('FRED/GDPPOT', column_index='1') )\n",
    "    macro_data['us_nat_unemployment'] = Macro_Series( 'us_nat_unemployment',quandl.get('FRED/NROUST',column_index='1') )\n",
    "\n",
    "    pred_gov_net_lending_keys = {'FRED/GGNLBPDEA188N':'Germany','FRED/GGNLBPFRA188N':'France','FRED/GGNLBPJPA188N':'Japan','FRED/GGNLBPCAA188N':'Canada',\n",
    "                            'FRED/GGNLBPCNA188N':'China','FRED/GGNLBPRUA188N':'Russia','FRED/GGNLBAGBA188N':'UK','FRED/GGNLBPEZA188N':'EU',\n",
    "                            'FRED/GGNLBPUSA188N':'US','FRED/GGNLBAINA188N':'India'}\n",
    "\n",
    "    pred_gov_net_lending = []\n",
    "    for i in pred_gov_net_lending_keys:\n",
    "        name = pred_gov_net_lending_keys[i] + '_pred_gov_net_lending'\n",
    "        pred_gov_net_lending.append( Macro_Series(name,quandl.get(i,column_index='1') ))\n",
    "    macro_data['pred_gov_net_lending'] = pred_gov_net_lending\n",
    "    \n",
    "    macro_data['fed_total_public_debt'] = Macro_Series( 'fed_total_public_debt', quandl.get('FRED/GFDEBTN',column_index='1') )\n",
    "\n",
    "    gov_gross_debt_keys = {'FRED/GGGDTADEA188N':'Germany','FRED/GGGDTAFRA188N':'France','FRED/GGGDTAJPA188N':'Japan','FRED/GGGDTACAA188N':'Canada',\n",
    "                           'FRED/GGGDTACNA188N':'China','FRED/GGGDTARUA188N':'Russia','FRED/GGGDTAGBA188N':'UK','FRED/GGGDTAEZA188N':'EU',\n",
    "                           'FRED/GGGDTAUSA188N':'US','FRED/GGGDTAINA188N':'India',}\n",
    "    gov_gross_debt = []\n",
    "    for i in gov_gross_debt_keys:\n",
    "        name = gov_gross_debt_keys[i] + '_gov_gross_debt'\n",
    "        gov_gross_debt.append( Macro_Series(name,quandl.get(i,column_index='1')) )\n",
    "    macro_data['gov_gross_debt'] = gov_gross_debt\n",
    "                                                       \n",
    "    macro_data['gold_price'] = Macro_Series('gold_price', quandl.get('LBMA/GOLD',column_index='1'))\n",
    "    return macro_data\n",
    "    "
   ]
  },
  {
   "cell_type": "code",
   "execution_count": 10,
   "metadata": {},
   "outputs": [
    {
     "name": "stdout",
     "output_type": "stream",
     "text": [
      "us_gdp_potential\n",
      "us_nat_unemployment\n",
      "Germany_pred_gov_net_lending\n",
      "France_pred_gov_net_lending\n",
      "Japan_pred_gov_net_lending\n",
      "Canada_pred_gov_net_lending\n",
      "China_pred_gov_net_lending\n",
      "Russia_pred_gov_net_lending\n",
      "UK_pred_gov_net_lending\n",
      "EU_pred_gov_net_lending\n",
      "US_pred_gov_net_lending\n",
      "India_pred_gov_net_lending\n",
      "fed_total_public_debt\n",
      "Germany_gov_gross_debt\n",
      "France_gov_gross_debt\n",
      "Japan_gov_gross_debt\n",
      "Canada_gov_gross_debt\n",
      "China_gov_gross_debt\n",
      "Russia_gov_gross_debt\n",
      "UK_gov_gross_debt\n",
      "EU_gov_gross_debt\n",
      "US_gov_gross_debt\n",
      "India_gov_gross_debt\n",
      "gold_price\n"
     ]
    }
   ],
   "source": [
    "mc_data = get_macro_data()"
   ]
  },
  {
   "cell_type": "code",
   "execution_count": 6,
   "metadata": {},
   "outputs": [],
   "source": [
    "def analyse_macro_data(macro_data):\n",
    "    print(\"Length:\",len(macro_data))\n",
    "    for i in macro_data:\n",
    "        print(i)\n",
    "        print(type(macro_data[i]))\n",
    "        if type(macro_data[i]) == type(pd.DataFrame()):\n",
    "            print('DateFrame')\n",
    "        else:\n",
    "            print('List')\n",
    "    return"
   ]
  },
  {
   "cell_type": "code",
   "execution_count": 7,
   "metadata": {},
   "outputs": [
    {
     "name": "stdout",
     "output_type": "stream",
     "text": [
      "Length: 6\n",
      "us_gdp_potential\n",
      "<class '__main__.Macro_Series'>\n",
      "List\n",
      "us_nat_unemployment\n",
      "<class '__main__.Macro_Series'>\n",
      "List\n",
      "pred_gov_net_lending\n",
      "<class 'list'>\n",
      "List\n",
      "fed_total_public_debt\n",
      "<class '__main__.Macro_Series'>\n",
      "List\n",
      "gov_gross_debt\n",
      "<class 'list'>\n",
      "List\n",
      "gold_price\n",
      "<class '__main__.Macro_Series'>\n",
      "List\n"
     ]
    }
   ],
   "source": [
    "analyse_macro_data(mc_data)"
   ]
  },
  {
   "cell_type": "code",
   "execution_count": null,
   "metadata": {},
   "outputs": [],
   "source": []
  }
 ],
 "metadata": {
  "kernelspec": {
   "display_name": "Python 3",
   "language": "python",
   "name": "python3"
  },
  "language_info": {
   "codemirror_mode": {
    "name": "ipython",
    "version": 3
   },
   "file_extension": ".py",
   "mimetype": "text/x-python",
   "name": "python",
   "nbconvert_exporter": "python",
   "pygments_lexer": "ipython3",
   "version": "3.6.4"
  }
 },
 "nbformat": 4,
 "nbformat_minor": 2
}
