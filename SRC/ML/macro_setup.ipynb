{
 "cells": [
  {
   "cell_type": "code",
   "execution_count": 1,
   "metadata": {},
   "outputs": [],
   "source": [
    "import quandl\n",
    "import pandas as pd\n",
    "import numpy as np\n",
    "import math\n",
    "import matplotlib.pyplot as plt\n",
    "import os\n",
    "%matplotlib inline"
   ]
  },
  {
   "cell_type": "code",
   "execution_count": 2,
   "metadata": {},
   "outputs": [],
   "source": [
    "quandl.ApiConfig.api_key = 'iB1vwTHbXzBdG755yy2W'"
   ]
  },
  {
   "cell_type": "code",
   "execution_count": 3,
   "metadata": {},
   "outputs": [],
   "source": [
    "## returns direction of a time sorted df from earliest time -> more recent time, start date and end date.\n",
    "def get_df_date_info(series):\n",
    "    d1 = series.iloc[0].name\n",
    "    d2 = series.iloc[-1].name\n",
    "    if d1 < d2:\n",
    "        #low -> high\n",
    "        return [1, d1, d2]\n",
    "    if d2 < d1:\n",
    "        #high -> low\n",
    "        return [-1, d2, d1]\n",
    "    \n",
    "def get_df_date_frequency(series):\n",
    "    # daily, weekly, fortnightly, monthly, quarterly, annual\n",
    "    ms = series.index\n",
    "    difference = ms.to_series() - ms.to_series().shift()\n",
    "    difference_mean = difference.mean()\n",
    "    days = difference_mean.days\n",
    "    hours = difference_mean.seconds/3600\n",
    "    if hours >= 12.0:\n",
    "        days += 1\n",
    "    return days\n",
    "    \n",
    "\n",
    "class Macro_Series:\n",
    "    def __init__(self,name,dataframe):\n",
    "        self.name = name\n",
    "        self.df = dataframe\n",
    "        \n",
    "        time_data = get_df_date_info(dataframe)\n",
    "        self.direction = time_data[0]\n",
    "        self.start_date = time_data[1]\n",
    "        self.end_date = time_data[2]\n",
    "        self.freq = get_df_date_frequency(dataframe)\n",
    "        ##print(self.name, self.start_date.year, self.start_date.month)"
   ]
  },
  {
   "cell_type": "code",
   "execution_count": 4,
   "metadata": {},
   "outputs": [],
   "source": [
    "class Stock_Macro:\n",
    "    def __init__(self,stock_code,dateframe):\n",
    "        self.stock_code = stock_code\n",
    "        self.df = dataframe\n",
    "\n",
    "        time_data = get_df_date_info(dataframe)\n",
    "        self.direction = time_data[0]\n",
    "        self.start_date = time_data[1]\n",
    "        self.end_date = time_data[2]"
   ]
  },
  {
   "cell_type": "code",
   "execution_count": 5,
   "metadata": {},
   "outputs": [],
   "source": [
    "def calculate_pct_change(df):\n",
    "    return df.join(df.pct_change().iloc[:,0].rename('pct_change'))\n",
    "\n",
    "def normalise(df):\n",
    "    norm = df.iloc[:,0] / np.absolute(df.iloc[:,0].max())\n",
    "    return df.join(norm.rename('norm'))"
   ]
  },
  {
   "cell_type": "code",
   "execution_count": 6,
   "metadata": {},
   "outputs": [],
   "source": [
    "def get_macro_data():\n",
    "    macro_data = {}\n",
    "    macro_data['us_tr_bill_3m'] = Macro_Series('us_tr_bill_3m',\n",
    "                                               calculate_pct_change(normalise(quandl.get('FRED/TB3MS',column_index='1'))) )\n",
    "    macro_data['us_gdp_potential'] = Macro_Series('us_gdp_potential',\n",
    "                                                  calculate_pct_change(normalise(quandl.get('FRED/GDPPOT', column_index='1'))) )\n",
    "    macro_data['us_nat_unemployment'] = Macro_Series('us_nat_unemployment',\n",
    "                                                     calculate_pct_change(normalise(quandl.get('FRED/NROUST',column_index='1'))) )\n",
    "\n",
    "    pred_gov_net_lending_keys = {'FRED/GGNLBPDEA188N':'Germany','FRED/GGNLBPFRA188N':'France','FRED/GGNLBPJPA188N':'Japan','FRED/GGNLBPCAA188N':'Canada',\n",
    "                                 'FRED/GGNLBPCNA188N':'China','FRED/GGNLBPRUA188N':'Russia','FRED/GGNLBAGBA188N':'UK','FRED/GGNLBPEZA188N':'EU',\n",
    "                                 'FRED/GGNLBPUSA188N':'US','FRED/GGNLBAINA188N':'India'}\n",
    "\n",
    "    pred_gov_net_lending = []\n",
    "    for i in pred_gov_net_lending_keys:\n",
    "        name = pred_gov_net_lending_keys[i] + '_pred_gov_net_lending'\n",
    "        pred_gov_net_lending.append( Macro_Series(name,\n",
    "                                                  calculate_pct_change(normalise(quandl.get(i,column_index='1'))) ))\n",
    "    macro_data['pred_gov_net_lending'] = pred_gov_net_lending\n",
    "    \n",
    "    macro_data['fed_total_public_debt'] = Macro_Series('fed_total_public_debt', \n",
    "                                                       calculate_pct_change(normalise(quandl.get('FRED/GFDEBTN',column_index='1'))) )\n",
    "\n",
    "    gov_gross_debt_keys = {'FRED/GGGDTADEA188N':'Germany','FRED/GGGDTAFRA188N':'France','FRED/GGGDTAJPA188N':'Japan','FRED/GGGDTACAA188N':'Canada',\n",
    "                           'FRED/GGGDTACNA188N':'China','FRED/GGGDTARUA188N':'Russia','FRED/GGGDTAGBA188N':'UK','FRED/GGGDTAEZA188N':'EU',\n",
    "                           'FRED/GGGDTAUSA188N':'US','FRED/GGGDTAINA188N':'India',}\n",
    "    gov_gross_debt = []\n",
    "    for i in gov_gross_debt_keys:\n",
    "        name = gov_gross_debt_keys[i] + '_gov_gross_debt'\n",
    "        gov_gross_debt.append( Macro_Series(name,\n",
    "                                            calculate_pct_change(normalise(quandl.get(i,column_index='1'))) ))\n",
    "    macro_data['gov_gross_debt'] = gov_gross_debt\n",
    "    \n",
    "    macro_data['crude_oil_historical'] = Macro_Series('crude_oil_historical', \n",
    "                                                      calculate_pct_change(normalise(quandl.get('BP/CRUDE_OIL_PRICES',column_index='1'))) )\n",
    "    \n",
    "    macro_data['crude_oil_opec'] = Macro_Series('crude_oil_opec',\n",
    "                                                calculate_pct_change(normalise(quandl.get('OPEC/ORB',column_index='1'))) )\n",
    "    \n",
    "    macro_data['gold_price'] = Macro_Series('gold_price',\n",
    "                                            calculate_pct_change(normalise(quandl.get('LBMA/GOLD',column_index='1'))) )\n",
    "    return macro_data"
   ]
  },
  {
   "cell_type": "code",
   "execution_count": 7,
   "metadata": {},
   "outputs": [],
   "source": [
    "mc_data = get_macro_data()\n",
    "tst = mc_data['gold_price'].df"
   ]
  },
  {
   "cell_type": "code",
   "execution_count": 8,
   "metadata": {},
   "outputs": [],
   "source": [
    "def skewed_normal(mu, sigma, minimum, maximum):\n",
    "    while True:\n",
    "        s = np.rint(np.random.normal(mu, sigma)).astype(int)\n",
    "        if (minimum < s & s < maximum ):\n",
    "            break  \n",
    "    return s\n",
    "\n",
    "def split_df(df, mu=20, sigma=30, minimum=5, maximum=150):\n",
    "    ub = math.floor(len(df)/2)    \n",
    "    if (maximum > ub):\n",
    "        maximum = ub\n",
    "    interval_start,interval_number,intervals = 0,1,df.iloc[:,0].astype(int).as_matrix()\n",
    "    intervals[:] = 0\n",
    "    while True:\n",
    "        s = skewed_normal(mu,sigma,minimum,maximum)\n",
    "        intervals[interval_start:interval_start+s] = interval_number\n",
    "        interval_number += 1\n",
    "        interval_start += s\n",
    "        if interval_start > len(df) - 1:\n",
    "            break\n",
    "    \n",
    "    intervals_pd = pd.Series(intervals,index=df.index).rename('Intervals')\n",
    "    df = df.join(intervals_pd)\n",
    "    return df"
   ]
  },
  {
   "cell_type": "code",
   "execution_count": 9,
   "metadata": {},
   "outputs": [],
   "source": [
    "def analyse_macro_data(macro_data,stock_data,display=False):\n",
    "    print(\"Length:\",len(macro_data))\n",
    "    count = 0\n",
    "    for i in macro_data:\n",
    "        count += 1\n",
    "        print('-------------')\n",
    "        print(i)\n",
    "        print(type(macro_data[i]))\n",
    "        macro_type_error = str('Value inputted:\\n\\n' + str(macro_data[i]) + '\\n\\nIs not of type list or class Macro_Series. It is of type ' + str(type(macro_data[i])))\n",
    "        if type(macro_data[i]) is Macro_Series:\n",
    "            ## Macro Series analysis - global factor\n",
    "            print('Macro_Series analysis')\n",
    "            if display:\n",
    "                plt.figure(count)\n",
    "                plt.title(i)\n",
    "                plt.plot(macro_data[i].df.iloc[:,1:])\n",
    "            \n",
    "        elif type(macro_data[i]) is list:\n",
    "            for j in macro_data[i]:\n",
    "                count += 1\n",
    "                print(j.name)\n",
    "                if type(j) is Macro_Series:\n",
    "                    ## Macro Series analysis - per country\n",
    "                    print('Macro_Series analysis - per country')\n",
    "                    if display:\n",
    "                        plt.figure(count)\n",
    "                        plt.title(j.name)\n",
    "                        plt.plot(j.df.iloc[:,1:])\n",
    "                    \n",
    "                else:\n",
    "                    raise ValueError(macro_type_error)\n",
    "        else:\n",
    "            raise ValueError(macro_type_error)\n",
    "    return"
   ]
  },
  {
   "cell_type": "code",
   "execution_count": 10,
   "metadata": {},
   "outputs": [],
   "source": [
    "def read_format_stock(path):\n",
    "    df = pd.read_csv(path)\n",
    "    df['date'] = pd.to_datetime(df['date'])\n",
    "    df['1. open'] = df['1. open'].astype(float)\n",
    "    df['2. high'] = df['2. high'].astype(float)\n",
    "    df['3. low'] = df['3. low'].astype(float)\n",
    "    df['4. close'] = df['4. close'].astype(float)\n",
    "    df['5. volume'] = df['5. volume'].astype(float)\n",
    "    return df"
   ]
  },
  {
   "cell_type": "code",
   "execution_count": 11,
   "metadata": {},
   "outputs": [
    {
     "data": {
      "text/html": [
       "<div>\n",
       "<style scoped>\n",
       "    .dataframe tbody tr th:only-of-type {\n",
       "        vertical-align: middle;\n",
       "    }\n",
       "\n",
       "    .dataframe tbody tr th {\n",
       "        vertical-align: top;\n",
       "    }\n",
       "\n",
       "    .dataframe thead th {\n",
       "        text-align: right;\n",
       "    }\n",
       "</style>\n",
       "<table border=\"1\" class=\"dataframe\">\n",
       "  <thead>\n",
       "    <tr style=\"text-align: right;\">\n",
       "      <th></th>\n",
       "      <th>date</th>\n",
       "      <th>1. open</th>\n",
       "      <th>2. high</th>\n",
       "      <th>3. low</th>\n",
       "      <th>4. close</th>\n",
       "      <th>5. volume</th>\n",
       "    </tr>\n",
       "  </thead>\n",
       "  <tbody>\n",
       "    <tr>\n",
       "      <th>0</th>\n",
       "      <td>2004-08-19</td>\n",
       "      <td>100.01</td>\n",
       "      <td>104.06</td>\n",
       "      <td>95.96</td>\n",
       "      <td>100.335</td>\n",
       "      <td>44659000.0</td>\n",
       "    </tr>\n",
       "    <tr>\n",
       "      <th>1</th>\n",
       "      <td>2004-08-20</td>\n",
       "      <td>101.01</td>\n",
       "      <td>109.08</td>\n",
       "      <td>100.50</td>\n",
       "      <td>108.310</td>\n",
       "      <td>22834300.0</td>\n",
       "    </tr>\n",
       "    <tr>\n",
       "      <th>2</th>\n",
       "      <td>2004-08-23</td>\n",
       "      <td>110.76</td>\n",
       "      <td>113.48</td>\n",
       "      <td>109.05</td>\n",
       "      <td>109.400</td>\n",
       "      <td>18256100.0</td>\n",
       "    </tr>\n",
       "    <tr>\n",
       "      <th>3</th>\n",
       "      <td>2004-08-24</td>\n",
       "      <td>111.24</td>\n",
       "      <td>111.60</td>\n",
       "      <td>103.57</td>\n",
       "      <td>104.870</td>\n",
       "      <td>15247300.0</td>\n",
       "    </tr>\n",
       "    <tr>\n",
       "      <th>4</th>\n",
       "      <td>2004-08-25</td>\n",
       "      <td>104.76</td>\n",
       "      <td>108.00</td>\n",
       "      <td>103.88</td>\n",
       "      <td>106.000</td>\n",
       "      <td>9188600.0</td>\n",
       "    </tr>\n",
       "  </tbody>\n",
       "</table>\n",
       "</div>"
      ],
      "text/plain": [
       "        date  1. open  2. high  3. low  4. close   5. volume\n",
       "0 2004-08-19   100.01   104.06   95.96   100.335  44659000.0\n",
       "1 2004-08-20   101.01   109.08  100.50   108.310  22834300.0\n",
       "2 2004-08-23   110.76   113.48  109.05   109.400  18256100.0\n",
       "3 2004-08-24   111.24   111.60  103.57   104.870  15247300.0\n",
       "4 2004-08-25   104.76   108.00  103.88   106.000   9188600.0"
      ]
     },
     "execution_count": 11,
     "metadata": {},
     "output_type": "execute_result"
    }
   ],
   "source": [
    "googl_path = os.path.join(os.getcwd(),\"..\",\"..\",\"Data\",\"GOOGL2.csv\")\n",
    "googl_df = read_format_stock(googl_path)\n",
    "googl_df.head()"
   ]
  },
  {
   "cell_type": "code",
   "execution_count": 12,
   "metadata": {
    "scrolled": false
   },
   "outputs": [
    {
     "name": "stdout",
     "output_type": "stream",
     "text": [
      "Length: 9\n",
      "-------------\n",
      "us_tr_bill_3m\n",
      "<class '__main__.Macro_Series'>\n",
      "Macro_Series analysis\n",
      "-------------\n",
      "us_gdp_potential\n",
      "<class '__main__.Macro_Series'>\n",
      "Macro_Series analysis\n",
      "-------------\n",
      "us_nat_unemployment\n",
      "<class '__main__.Macro_Series'>\n",
      "Macro_Series analysis\n",
      "-------------\n",
      "pred_gov_net_lending\n",
      "<class 'list'>\n",
      "Germany_pred_gov_net_lending\n",
      "Macro_Series analysis - per country\n",
      "France_pred_gov_net_lending\n",
      "Macro_Series analysis - per country\n",
      "Japan_pred_gov_net_lending\n",
      "Macro_Series analysis - per country\n",
      "Canada_pred_gov_net_lending\n",
      "Macro_Series analysis - per country\n",
      "China_pred_gov_net_lending\n",
      "Macro_Series analysis - per country\n",
      "Russia_pred_gov_net_lending\n",
      "Macro_Series analysis - per country\n",
      "UK_pred_gov_net_lending\n",
      "Macro_Series analysis - per country\n",
      "EU_pred_gov_net_lending\n",
      "Macro_Series analysis - per country\n",
      "US_pred_gov_net_lending\n",
      "Macro_Series analysis - per country\n",
      "India_pred_gov_net_lending\n",
      "Macro_Series analysis - per country\n",
      "-------------\n",
      "fed_total_public_debt\n",
      "<class '__main__.Macro_Series'>\n",
      "Macro_Series analysis\n",
      "-------------\n",
      "gov_gross_debt\n",
      "<class 'list'>\n",
      "Germany_gov_gross_debt\n",
      "Macro_Series analysis - per country\n",
      "France_gov_gross_debt\n",
      "Macro_Series analysis - per country\n",
      "Japan_gov_gross_debt\n",
      "Macro_Series analysis - per country\n",
      "Canada_gov_gross_debt\n",
      "Macro_Series analysis - per country\n",
      "China_gov_gross_debt\n",
      "Macro_Series analysis - per country\n",
      "Russia_gov_gross_debt\n",
      "Macro_Series analysis - per country\n",
      "UK_gov_gross_debt\n",
      "Macro_Series analysis - per country\n",
      "EU_gov_gross_debt\n",
      "Macro_Series analysis - per country\n",
      "US_gov_gross_debt\n",
      "Macro_Series analysis - per country\n",
      "India_gov_gross_debt\n",
      "Macro_Series analysis - per country\n",
      "-------------\n",
      "crude_oil_historical\n",
      "<class '__main__.Macro_Series'>\n",
      "Macro_Series analysis\n",
      "-------------\n",
      "crude_oil_opec\n",
      "<class '__main__.Macro_Series'>\n",
      "Macro_Series analysis\n",
      "-------------\n",
      "gold_price\n",
      "<class '__main__.Macro_Series'>\n",
      "Macro_Series analysis\n"
     ]
    }
   ],
   "source": [
    "analyse_macro_data(mc_data,googl_df)"
   ]
  },
  {
   "cell_type": "code",
   "execution_count": 13,
   "metadata": {},
   "outputs": [],
   "source": [
    "def compare_pct_change(ms_1, ms_2,display=False):\n",
    "    start_date = max(ms_1.start_date, ms_2.start_date)\n",
    "    \n",
    "    idx1 = ms_1.df.index\n",
    "    idx2 = ms_2.df.index\n",
    "    idx_merged = idx1.union(idx2)\n",
    "    \n",
    "    df_1 = pd.DataFrame(ms_1.df.iloc[:,1].rename('ms_1_norm'),index=idx_merged)\n",
    "    df_2 = pd.DataFrame(ms_2.df.iloc[:,1].rename('ms_2_norm'),index=idx_merged)\n",
    "    \n",
    "    merged = df_1.join(df_2)\n",
    "    \n",
    "    merged = merged.fillna(method='ffill')\n",
    "    merged = merged[(merged.index > start_date)]\n",
    "    if display:\n",
    "        plt.plot(merged)\n",
    "        plt.title(ms_1.name + \" - \" + ms_2.name)\n",
    "    return merged\n",
    "    "
   ]
  },
  {
   "cell_type": "code",
   "execution_count": 14,
   "metadata": {},
   "outputs": [
    {
     "data": {
      "image/png": "[encoded data removed]",
      "text/plain": [
       "<Figure size 432x288 with 1 Axes>"
      ]
     },
     "metadata": {},
     "output_type": "display_data"
    }
   ],
   "source": [
    "df1 = mc_data['gold_price']\n",
    "df2 = mc_data['crude_oil_opec']\n",
    "\n",
    "mg = compare_pct_change(df1,df2,True)"
   ]
  },
  {
   "cell_type": "code",
   "execution_count": 15,
   "metadata": {
    "scrolled": false
   },
   "outputs": [
    {
     "data": {
      "image/png": "[encoded data removed]",
      "text/plain": [
       "<Figure size 432x288 with 1 Axes>"
      ]
     },
     "metadata": {},
     "output_type": "display_data"
    }
   ],
   "source": [
    "df1 = mc_data['us_tr_bill_3m']\n",
    "df2 = mc_data['crude_oil_opec']\n",
    "\n",
    "mg = compare_pct_change(df1,df2,True)"
   ]
  },
  {
   "cell_type": "code",
   "execution_count": null,
   "metadata": {},
   "outputs": [],
   "source": []
  }
 ],
 "metadata": {
  "kernelspec": {
   "display_name": "Python 3",
   "language": "python",
   "name": "python3"
  },
  "language_info": {
   "codemirror_mode": {
    "name": "ipython",
    "version": 3
   },
   "file_extension": ".py",
   "mimetype": "text/x-python",
   "name": "python",
   "nbconvert_exporter": "python",
   "pygments_lexer": "ipython3",
   "version": "3.6.4"
  }
 },
 "nbformat": 4,
 "nbformat_minor": 2
}
