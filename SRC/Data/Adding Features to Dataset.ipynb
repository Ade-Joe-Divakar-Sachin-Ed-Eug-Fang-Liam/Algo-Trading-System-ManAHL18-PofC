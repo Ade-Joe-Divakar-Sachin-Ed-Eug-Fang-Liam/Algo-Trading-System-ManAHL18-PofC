{
 "cells": [
  {
   "cell_type": "code",
   "execution_count": 43,
   "metadata": {},
   "outputs": [],
   "source": [
    "import numpy as np\n",
    "import pandas as pd\n",
    "import seaborn as sns\n",
    "import matplotlib.pyplot as plt\n",
    "%matplotlib inline\n",
    "    \n",
    "def currency2Float(x):\n",
    "    '''\n",
    "    Converts currency into string type\n",
    "    '''\n",
    "    result = x.replace('$','').replace(',','')\n",
    "    return result\n",
    "\n",
    "def convertCurrencyColsToFloats(data, cols):\n",
    "    '''\n",
    "    Converts Currency feature columns into floats\n",
    "    '''    \n",
    "    try:\n",
    "        for col in cols:\n",
    "            print(col)\n",
    "            data[col] = data[col].apply(lambda x: currency2Float(x)).astype('float')\n",
    "            \n",
    "    except Exception as e:\n",
    "        print(\"Error occured: Missing columns in DataFrame!!\".format(e))\n",
    "    return data\n",
    "\n",
    "def signExtra(x):\n",
    "    y = np.sign(x)\n",
    "    if y == -1:\n",
    "        return 0\n",
    "    else:\n",
    "        return y\n",
    "vecSign = np.vectorize(signExtra)\n",
    "    \n",
    "def data_cleaning(data):\n",
    "    \"\"\"\n",
    "    Gets the Dow Jones Index data. \n",
    "    Removes unwanted feature columns.\n",
    "    Computes the output/response of the model as the direction of the future returns.    \n",
    "    \"\"\"\n",
    "    raw_data = data\n",
    "    \n",
    "    #Drop unwanted columns\n",
    "    for col in raw_data.columns:\n",
    "        if col not in ['Date', 'Open', 'High', 'Low', 'Close', 'Volume']:\n",
    "            raw_data.drop(col, axis=1, inplace=True)\n",
    "        else:\n",
    "            pass\n",
    "    \n",
    "    #Add direction\n",
    "    raw_data['direction'] = vecSign(raw_data.Close.pct_change())\n",
    "    \n",
    "    \n",
    "    return raw_data.dropna()"
   ]
  },
  {
   "cell_type": "code",
   "execution_count": null,
   "metadata": {
    "collapsed": true
   },
   "outputs": [],
   "source": []
  }
 ],
 "metadata": {
  "kernelspec": {
   "display_name": "Python 3",
   "language": "python",
   "name": "python3"
  },
  "language_info": {
   "codemirror_mode": {
    "name": "ipython",
    "version": 3
   },
   "file_extension": ".py",
   "mimetype": "text/x-python",
   "name": "python",
   "nbconvert_exporter": "python",
   "pygments_lexer": "ipython3",
   "version": "3.6.3"
  }
 },
 "nbformat": 4,
 "nbformat_minor": 2
}
