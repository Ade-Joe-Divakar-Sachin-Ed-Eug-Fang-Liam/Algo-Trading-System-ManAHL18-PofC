{
 "cells": [
  {
   "cell_type": "markdown",
   "metadata": {
    "collapsed": true
   },
   "source": [
    "## Simple Stock Market Direction Prediction\n",
    "\n",
    "- Uses S&P 500 stock data from Yahoo Finnce "
   ]
  },
  {
   "cell_type": "markdown",
   "metadata": {},
   "source": [
    "### Install pandas-datareader if it not already installed"
   ]
  },
  {
   "cell_type": "code",
   "execution_count": null,
   "metadata": {},
   "outputs": [],
   "source": [
    "#!pip install pandas-datareader\n",
    "#!pip install tabulate\n",
    "!conda update scikit-learn"
   ]
  },
  {
   "cell_type": "markdown",
   "metadata": {},
   "source": [
    "### Specify the imported packages"
   ]
  },
  {
   "cell_type": "code",
   "execution_count": 5,
   "metadata": {},
   "outputs": [
    {
     "ename": "ImportError",
     "evalue": "No module named 'sklearn.lda'",
     "output_type": "error",
     "traceback": [
      "\u001b[1;31m---------------------------------------------------------------------------\u001b[0m",
      "\u001b[1;31mImportError\u001b[0m                               Traceback (most recent call last)",
      "\u001b[1;32m<ipython-input-5-45661adb109f>\u001b[0m in \u001b[0;36m<module>\u001b[1;34m()\u001b[0m\n\u001b[0;32m     12\u001b[0m \u001b[1;32mfrom\u001b[0m \u001b[0msklearn\u001b[0m\u001b[1;33m.\u001b[0m\u001b[0mensemble\u001b[0m \u001b[1;32mimport\u001b[0m \u001b[0mRandomForestClassifier\u001b[0m\u001b[1;33m\u001b[0m\u001b[0m\n\u001b[0;32m     13\u001b[0m \u001b[1;32mfrom\u001b[0m \u001b[0msklearn\u001b[0m\u001b[1;33m.\u001b[0m\u001b[0mlinear_model\u001b[0m \u001b[1;32mimport\u001b[0m \u001b[0mLogisticRegression\u001b[0m\u001b[1;33m\u001b[0m\u001b[0m\n\u001b[1;32m---> 14\u001b[1;33m \u001b[1;32mfrom\u001b[0m \u001b[0msklearn\u001b[0m\u001b[1;33m.\u001b[0m\u001b[0mlda\u001b[0m \u001b[1;32mimport\u001b[0m \u001b[0mLDA\u001b[0m\u001b[1;33m\u001b[0m\u001b[0m\n\u001b[0m\u001b[0;32m     15\u001b[0m \u001b[1;32mfrom\u001b[0m \u001b[0msklearn\u001b[0m\u001b[1;33m.\u001b[0m\u001b[0mmetrics\u001b[0m \u001b[1;32mimport\u001b[0m \u001b[0mconfusion_matrix\u001b[0m\u001b[1;33m\u001b[0m\u001b[0m\n\u001b[0;32m     16\u001b[0m \u001b[1;32mfrom\u001b[0m \u001b[0msklearn\u001b[0m\u001b[1;33m.\u001b[0m\u001b[0mqda\u001b[0m \u001b[1;32mimport\u001b[0m \u001b[0mQDA\u001b[0m\u001b[1;33m\u001b[0m\u001b[0m\n",
      "\u001b[1;31mImportError\u001b[0m: No module named 'sklearn.lda'"
     ]
    }
   ],
   "source": [
    "from __future__ import print_function\n",
    "import itertools\n",
    "import datetime\n",
    "import numpy as np\n",
    "import pandas as pd\n",
    "import sklearn\n",
    "import matplotlib.pyplot as plt\n",
    "\n",
    "#from pandas.io.data import DataReader\n",
    "import pandas_datareader.data as web\n",
    "import pandas_datareader as pdr\n",
    "from sklearn.ensemble import RandomForestClassifier\n",
    "from sklearn.linear_model import LogisticRegression\n",
    "from sklearn.lda import LDA\n",
    "from sklearn.metrics import confusion_matrix\n",
    "from sklearn.qda import QDA\n",
    "from sklearn.svm import LinearSVC, SVC\n",
    "from sklearn.neural_network import MLPClassifier\n",
    "\n",
    "%matplotlib inline\n",
    "\n",
    "# Use aternative approach to get Stock Prices from Yahoo\n",
    "%run Yahoo_Stock_Prices.ipynb\n"
   ]
  },
  {
   "cell_type": "markdown",
   "metadata": {},
   "source": [
    "### Help function to source closing stock price data from Yahoo\n",
    "\n",
    "- Data is time series based on start and end date time-window\n",
    "- Prices are sourced for today\n",
    "- Prices are also sourced for lagged number of days\n",
    "- Prices are converted into returns\n",
    "- Volumes are also sourced for each day\n",
    "- Direction of returns for the current date is computed as the sign(returns)"
   ]
  },
  {
   "cell_type": "code",
   "execution_count": 3,
   "metadata": {
    "collapsed": true
   },
   "outputs": [],
   "source": [
    "def createLaggedSeries(symbol, start_date, end_date, lags=5):\n",
    "    \"\"\"\n",
    "    This creates a pandas DataFrame that stores the \n",
    "    percentage returns of the adjusted closing value of \n",
    "    a stock obtained from Yahoo Finance, along with a \n",
    "    number of lagged returns from the prior trading days \n",
    "    (lags defaults to 5 days). Trading volume, as well as \n",
    "    the Direction from the previous day, are also included.\n",
    "    \"\"\"\n",
    "\n",
    "    # Obtain stock information from Yahoo Finance\n",
    "#     ts = web.DataReader(\n",
    "#         symbol, \"yahoo\", \n",
    "#         start_date-datetime.timedelta(days=365), \n",
    "#         end_date\n",
    "#     )\n",
    "    #ts = pdr.get_data_yahoo(symbol, start_date, end_date)\n",
    "    ts = get_historical_prices(symbol, start_date-datetime.timedelta(days=365), end_date)\n",
    "\n",
    "    # Create the new lagged DataFrame\n",
    "    tslag = pd.DataFrame(index=ts.index)\n",
    "    tslag[\"Today\"] = ts[\"adjclose\"]\n",
    "    tslag[\"Volume\"] = ts[\"volume\"]\n",
    "\n",
    "    # Create the shifted lag series of prior trading period close values\n",
    "    for i in range(0, lags):\n",
    "        tslag[\"Lag%s\" % str(i+1)] = ts[\"adjclose\"].shift(i+1)\n",
    "\n",
    "    # Create the returns DataFrame\n",
    "    tsret = pd.DataFrame(index=tslag.index)\n",
    "    tsret[\"Volume\"] = tslag[\"Volume\"]\n",
    "    tsret[\"Today\"] = tslag[\"Today\"].pct_change()*100.0\n",
    "\n",
    "    # If any of the values of percentage returns equal zero, set them to\n",
    "    # a small number (stops issues with QDA model in scikit-learn)\n",
    "    for i,x in enumerate(tsret[\"Today\"]):\n",
    "        if (abs(x) < 0.0001):\n",
    "            tsret[\"Today\"][i] = 0.0001\n",
    "\n",
    "    # Create the lagged percentage returns columns\n",
    "    for i in range(0, lags):\n",
    "        tsret[\"Lag%s\" % str(i+1)] = \\\n",
    "        tslag[\"Lag%s\" % str(i+1)].pct_change()*100.0\n",
    "\n",
    "    # Create the \"Direction\" column (+1 or -1) indicating an up/down day\n",
    "    tsret[\"Direction\"] = np.sign(tsret[\"Today\"])\n",
    "    #tsret = tsret[tsret.index >= start_date]\n",
    "\n",
    "    return tsret"
   ]
  },
  {
   "cell_type": "markdown",
   "metadata": {},
   "source": [
    "### Helper methods to Explore and Plot the Stock data"
   ]
  },
  {
   "cell_type": "code",
   "execution_count": 50,
   "metadata": {
    "collapsed": true
   },
   "outputs": [],
   "source": [
    "def getStockFromYahoo(symbol=\"^GSPC\", start_date=datetime.datetime(2001,1,10),end_date=datetime.datetime(2005,12,31), lags=5):\n",
    "    \"\"\"\n",
    "    Gets the S&P 500 Lagged stock data form Yahoo\n",
    "    \"\"\"\n",
    "    return createLaggedSeries(symbol, start_date, end_date, lags)\n",
    "    "
   ]
  },
  {
   "cell_type": "code",
   "execution_count": 51,
   "metadata": {
    "collapsed": true
   },
   "outputs": [],
   "source": [
    "def exploreData(data):\n",
    "    \"\"\"\n",
    "    Provide Data Exploration\n",
    "    \"\"\"\n",
    "    from tabulate import tabulate\n",
    "    print(\"\\nData Descriptive Stats:\\n{}\".format(tabulate(data.describe(),headers='keys', tablefmt='psql')))\n",
    "    print(\"\\nSample Data Head:\\n{}\".format(tabulate(data.head(), headers='keys', tablefmt='psql')))\n",
    "    print(\"\\nSample Data Tail:\\n{}\".format(tabulate(data.tail(), headers='keys', tablefmt='psql')))\n",
    "    "
   ]
  },
  {
   "cell_type": "code",
   "execution_count": 52,
   "metadata": {
    "collapsed": true
   },
   "outputs": [],
   "source": [
    "def plotData(data, cols=['Today', 'Volume']):\n",
    "    \"\"\"\n",
    "    Plot selective columns of the Stock data\n",
    "    \"\"\"\n",
    "    plots = data[cols].plot(subplots=True, figsize=(10, 10))\n",
    "    plt.show()\n",
    "    "
   ]
  },
  {
   "cell_type": "code",
   "execution_count": 53,
   "metadata": {},
   "outputs": [
    {
     "name": "stderr",
     "output_type": "stream",
     "text": [
      "/home/nbuser/anaconda2_501/lib/python2.7/site-packages/ipykernel/__main__.py:38: SettingWithCopyWarning: \n",
      "A value is trying to be set on a copy of a slice from a DataFrame\n",
      "\n",
      "See the caveats in the documentation: http://pandas.pydata.org/pandas-docs/stable/indexing.html#indexing-view-versus-copy\n"
     ]
    },
    {
     "name": "stdout",
     "output_type": "stream",
     "text": [
      "\n",
      "Data Descriptive Stats:\n",
      "+-------+----------------+--------------+--------------+--------------+--------------+--------------+--------------+--------------+\n",
      "|       |         Volume |        Today |         Lag1 |         Lag2 |         Lag3 |         Lag4 |         Lag5 |    Direction |\n",
      "|-------+----------------+--------------+--------------+--------------+--------------+--------------+--------------+--------------|\n",
      "| count | 1502           | 1501         | 1500         | 1499         | 1498         | 1497         | 1496         | 1501         |\n",
      "| mean  |    1.40566e+09 |    0.0164993 |    0.0162165 |    0.0170294 |    0.0177456 |    0.017298  |    0.0173444 |   -0.0193205 |\n",
      "| std   |    3.74924e+08 |    1.18723   |    1.18757   |    1.18755   |    1.18762   |    1.18789   |    1.18829   |    1.00015   |\n",
      "| min   |    3.5607e+08  |   -5.42191   |   -5.42191   |   -5.42191   |   -5.42191   |   -5.42191   |   -5.42191   |   -1         |\n",
      "| 25%   |    1.15155e+09 |   -0.618451  |   -0.618524  |   -0.617965  |   -0.617191  |   -0.617478  |   -0.617721  |   -1         |\n",
      "| 50%   |    1.36885e+09 |   -0.0181743 |   -0.0197328 |   -0.0181743 |   -0.017879  |   -0.0181743 |   -0.017879  |   -1         |\n",
      "| 75%   |    1.5746e+09  |    0.673366  |    0.673574  |    0.673782  |    0.67399   |    0.673366  |    0.673574  |    1         |\n",
      "| max   |    3.15247e+09 |    6.18844   |    6.18844   |    6.18844   |    6.18844   |    6.18844   |    6.18844   |    1         |\n",
      "+-------+----------------+--------------+--------------+--------------+--------------+--------------+--------------+--------------+\n",
      "\n",
      "Sample Data Head:\n",
      "+----+-------------+------------+------------+------------+------------+--------+--------+-------------+\n",
      "|    |      Volume |      Today |       Lag1 |       Lag2 |       Lag3 |   Lag4 |   Lag5 |   Direction |\n",
      "|----+-------------+------------+------------+------------+------------+--------+--------+-------------|\n",
      "|  0 | 1.4435e+09  | nan        | nan        | nan        | nan        |    nan |    nan |         nan |\n",
      "|  1 | 1.38254e+09 |   0.491072 | nan        | nan        | nan        |    nan |    nan |           1 |\n",
      "|  2 | 1.42236e+09 |   0.298943 |   0.491072 | nan        | nan        |    nan |    nan |           1 |\n",
      "|  3 | 1.54047e+09 |  -0.129554 |   0.298943 |   0.491072 | nan        |    nan |    nan |          -1 |\n",
      "|  4 | 1.28581e+09 |   0.964553 |  -0.129554 |   0.298943 |   0.491072 |    nan |    nan |           1 |\n",
      "+----+-------------+------------+------------+------------+------------+--------+--------+-------------+\n",
      "\n",
      "Sample Data Tail:\n",
      "+------+------------+------------+------------+------------+------------+------------+-----------+-------------+\n",
      "|      |     Volume |      Today |       Lag1 |       Lag2 |       Lag3 |       Lag4 |      Lag5 |   Direction |\n",
      "|------+------------+------------+------------+------------+------------+------------+-----------+-------------|\n",
      "| 1497 | 1.0567e+09 | -0.0522021 |  0.714602  |  0.292083  |  2.84189   | -0.602824  |  0.423054 |          -1 |\n",
      "| 1498 | 1.0859e+09 |  0.687907  | -0.0522021 |  0.714602  |  0.292083  |  2.84189   | -0.602824 |           1 |\n",
      "| 1499 | 1.0304e+09 | -1.05586   |  0.687907  | -0.0522021 |  0.714602  |  0.292083  |  2.84189  |          -1 |\n",
      "| 1500 | 9.746e+08  | -1.20234   | -1.05586   |  0.687907  | -0.0522021 |  0.714602  |  0.292083 |          -1 |\n",
      "| 1501 | 1.014e+09  |  0.44057   | -1.20234   | -1.05586   |  0.687907  | -0.0522021 |  0.714602 |           1 |\n",
      "+------+------------+------------+------------+------------+------------+------------+-----------+-------------+\n"
     ]
    },
    {
     "data": {
      "image/png": "[encoded data removed]",
      "text/plain": [
       "<matplotlib.figure.Figure at 0x7f097a34e410>"
      ]
     },
     "metadata": {},
     "output_type": "display_data"
    }
   ],
   "source": [
    "s_p_500_data = getStockFromYahoo()\n",
    "exploreData(s_p_500_data)\n",
    "plotData(s_p_500_data)"
   ]
  },
  {
   "cell_type": "markdown",
   "metadata": {},
   "source": [
    "### Let us pre-process the data"
   ]
  },
  {
   "cell_type": "code",
   "execution_count": 55,
   "metadata": {},
   "outputs": [
    {
     "ename": "ValueError",
     "evalue": "Input contains NaN, infinity or a value too large for dtype('float64').",
     "output_type": "error",
     "traceback": [
      "\u001b[0;31m\u001b[0m",
      "\u001b[0;31mValueError\u001b[0mTraceback (most recent call last)",
      "\u001b[0;32m<ipython-input-55-13d758049c05>\u001b[0m in \u001b[0;36m<module>\u001b[0;34m()\u001b[0m\n\u001b[1;32m      4\u001b[0m \u001b[0mX\u001b[0m \u001b[0;34m=\u001b[0m \u001b[0ms_p_500_data\u001b[0m\u001b[0;34m[\u001b[0m\u001b[0;34m:\u001b[0m\u001b[0mn_cols\u001b[0m \u001b[0;34m-\u001b[0m \u001b[0;36m1\u001b[0m\u001b[0;34m]\u001b[0m\u001b[0;34m\u001b[0m\u001b[0m\n\u001b[1;32m      5\u001b[0m \u001b[0my\u001b[0m \u001b[0;34m=\u001b[0m \u001b[0ms_p_500_data\u001b[0m\u001b[0;34m[\u001b[0m\u001b[0;34m:\u001b[0m\u001b[0;34m-\u001b[0m\u001b[0;36m1\u001b[0m\u001b[0;34m]\u001b[0m\u001b[0;34m\u001b[0m\u001b[0m\n\u001b[0;32m----> 6\u001b[0;31m \u001b[0mX_scaled\u001b[0m \u001b[0;34m=\u001b[0m \u001b[0mscaler\u001b[0m\u001b[0;34m.\u001b[0m\u001b[0mfit_transform\u001b[0m\u001b[0;34m(\u001b[0m\u001b[0mX\u001b[0m\u001b[0;34m)\u001b[0m\u001b[0;34m\u001b[0m\u001b[0m\n\u001b[0m\u001b[1;32m      7\u001b[0m \u001b[0ms_p_500_data_new\u001b[0m \u001b[0;34m=\u001b[0m \u001b[0mnp\u001b[0m\u001b[0;34m.\u001b[0m\u001b[0mxstack\u001b[0m\u001b[0;34m(\u001b[0m\u001b[0mX\u001b[0m\u001b[0;34m,\u001b[0m\u001b[0my\u001b[0m \u001b[0;34m)\u001b[0m\u001b[0;34m\u001b[0m\u001b[0m\n",
      "\u001b[0;32m/home/nbuser/anaconda2_501/lib/python2.7/site-packages/sklearn/base.pyc\u001b[0m in \u001b[0;36mfit_transform\u001b[0;34m(self, X, y, **fit_params)\u001b[0m\n\u001b[1;32m    492\u001b[0m         \u001b[0;32mif\u001b[0m \u001b[0my\u001b[0m \u001b[0;32mis\u001b[0m \u001b[0mNone\u001b[0m\u001b[0;34m:\u001b[0m\u001b[0;34m\u001b[0m\u001b[0m\n\u001b[1;32m    493\u001b[0m             \u001b[0;31m# fit method of arity 1 (unsupervised transformation)\u001b[0m\u001b[0;34m\u001b[0m\u001b[0;34m\u001b[0m\u001b[0m\n\u001b[0;32m--> 494\u001b[0;31m             \u001b[0;32mreturn\u001b[0m \u001b[0mself\u001b[0m\u001b[0;34m.\u001b[0m\u001b[0mfit\u001b[0m\u001b[0;34m(\u001b[0m\u001b[0mX\u001b[0m\u001b[0;34m,\u001b[0m \u001b[0;34m**\u001b[0m\u001b[0mfit_params\u001b[0m\u001b[0;34m)\u001b[0m\u001b[0;34m.\u001b[0m\u001b[0mtransform\u001b[0m\u001b[0;34m(\u001b[0m\u001b[0mX\u001b[0m\u001b[0;34m)\u001b[0m\u001b[0;34m\u001b[0m\u001b[0m\n\u001b[0m\u001b[1;32m    495\u001b[0m         \u001b[0;32melse\u001b[0m\u001b[0;34m:\u001b[0m\u001b[0;34m\u001b[0m\u001b[0m\n\u001b[1;32m    496\u001b[0m             \u001b[0;31m# fit method of arity 2 (supervised transformation)\u001b[0m\u001b[0;34m\u001b[0m\u001b[0;34m\u001b[0m\u001b[0m\n",
      "\u001b[0;32m/home/nbuser/anaconda2_501/lib/python2.7/site-packages/sklearn/preprocessing/data.pyc\u001b[0m in \u001b[0;36mfit\u001b[0;34m(self, X, y)\u001b[0m\n\u001b[1;32m    558\u001b[0m         \u001b[0;31m# Reset internal state before fitting\u001b[0m\u001b[0;34m\u001b[0m\u001b[0;34m\u001b[0m\u001b[0m\n\u001b[1;32m    559\u001b[0m         \u001b[0mself\u001b[0m\u001b[0;34m.\u001b[0m\u001b[0m_reset\u001b[0m\u001b[0;34m(\u001b[0m\u001b[0;34m)\u001b[0m\u001b[0;34m\u001b[0m\u001b[0m\n\u001b[0;32m--> 560\u001b[0;31m         \u001b[0;32mreturn\u001b[0m \u001b[0mself\u001b[0m\u001b[0;34m.\u001b[0m\u001b[0mpartial_fit\u001b[0m\u001b[0;34m(\u001b[0m\u001b[0mX\u001b[0m\u001b[0;34m,\u001b[0m \u001b[0my\u001b[0m\u001b[0;34m)\u001b[0m\u001b[0;34m\u001b[0m\u001b[0m\n\u001b[0m\u001b[1;32m    561\u001b[0m \u001b[0;34m\u001b[0m\u001b[0m\n\u001b[1;32m    562\u001b[0m     \u001b[0;32mdef\u001b[0m \u001b[0mpartial_fit\u001b[0m\u001b[0;34m(\u001b[0m\u001b[0mself\u001b[0m\u001b[0;34m,\u001b[0m \u001b[0mX\u001b[0m\u001b[0;34m,\u001b[0m \u001b[0my\u001b[0m\u001b[0;34m=\u001b[0m\u001b[0mNone\u001b[0m\u001b[0;34m)\u001b[0m\u001b[0;34m:\u001b[0m\u001b[0;34m\u001b[0m\u001b[0m\n",
      "\u001b[0;32m/home/nbuser/anaconda2_501/lib/python2.7/site-packages/sklearn/preprocessing/data.pyc\u001b[0m in \u001b[0;36mpartial_fit\u001b[0;34m(self, X, y)\u001b[0m\n\u001b[1;32m    581\u001b[0m         X = check_array(X, accept_sparse=('csr', 'csc'), copy=self.copy,\n\u001b[1;32m    582\u001b[0m                         \u001b[0mensure_2d\u001b[0m\u001b[0;34m=\u001b[0m\u001b[0mFalse\u001b[0m\u001b[0;34m,\u001b[0m \u001b[0mwarn_on_dtype\u001b[0m\u001b[0;34m=\u001b[0m\u001b[0mTrue\u001b[0m\u001b[0;34m,\u001b[0m\u001b[0;34m\u001b[0m\u001b[0m\n\u001b[0;32m--> 583\u001b[0;31m                         estimator=self, dtype=FLOAT_DTYPES)\n\u001b[0m\u001b[1;32m    584\u001b[0m \u001b[0;34m\u001b[0m\u001b[0m\n\u001b[1;32m    585\u001b[0m         \u001b[0;32mif\u001b[0m \u001b[0mX\u001b[0m\u001b[0;34m.\u001b[0m\u001b[0mndim\u001b[0m \u001b[0;34m==\u001b[0m \u001b[0;36m1\u001b[0m\u001b[0;34m:\u001b[0m\u001b[0;34m\u001b[0m\u001b[0m\n",
      "\u001b[0;32m/home/nbuser/anaconda2_501/lib/python2.7/site-packages/sklearn/utils/validation.pyc\u001b[0m in \u001b[0;36mcheck_array\u001b[0;34m(array, accept_sparse, dtype, order, copy, force_all_finite, ensure_2d, allow_nd, ensure_min_samples, ensure_min_features, warn_on_dtype, estimator)\u001b[0m\n\u001b[1;32m    405\u001b[0m                              % (array.ndim, estimator_name))\n\u001b[1;32m    406\u001b[0m         \u001b[0;32mif\u001b[0m \u001b[0mforce_all_finite\u001b[0m\u001b[0;34m:\u001b[0m\u001b[0;34m\u001b[0m\u001b[0m\n\u001b[0;32m--> 407\u001b[0;31m             \u001b[0m_assert_all_finite\u001b[0m\u001b[0;34m(\u001b[0m\u001b[0marray\u001b[0m\u001b[0;34m)\u001b[0m\u001b[0;34m\u001b[0m\u001b[0m\n\u001b[0m\u001b[1;32m    408\u001b[0m \u001b[0;34m\u001b[0m\u001b[0m\n\u001b[1;32m    409\u001b[0m     \u001b[0mshape_repr\u001b[0m \u001b[0;34m=\u001b[0m \u001b[0m_shape_repr\u001b[0m\u001b[0;34m(\u001b[0m\u001b[0marray\u001b[0m\u001b[0;34m.\u001b[0m\u001b[0mshape\u001b[0m\u001b[0;34m)\u001b[0m\u001b[0;34m\u001b[0m\u001b[0m\n",
      "\u001b[0;32m/home/nbuser/anaconda2_501/lib/python2.7/site-packages/sklearn/utils/validation.pyc\u001b[0m in \u001b[0;36m_assert_all_finite\u001b[0;34m(X)\u001b[0m\n\u001b[1;32m     56\u001b[0m             and not np.isfinite(X).all()):\n\u001b[1;32m     57\u001b[0m         raise ValueError(\"Input contains NaN, infinity\"\n\u001b[0;32m---> 58\u001b[0;31m                          \" or a value too large for %r.\" % X.dtype)\n\u001b[0m\u001b[1;32m     59\u001b[0m \u001b[0;34m\u001b[0m\u001b[0m\n\u001b[1;32m     60\u001b[0m \u001b[0;34m\u001b[0m\u001b[0m\n",
      "\u001b[0;31mValueError\u001b[0m: Input contains NaN, infinity or a value too large for dtype('float64')."
     ]
    }
   ],
   "source": [
    "import sklearn.preprocessing as spp\n",
    "scaler = spp.StandardScaler()\n",
    "n_cols = s_p_500_data.shape[1]\n",
    "X = s_p_500_data[:n_cols - 1]\n",
    "y = s_p_500_data[:-1]\n",
    "X_scaled = scaler.fit_transform(X)\n",
    "s_p_500_data_new = np.xstack(X,y )"
   ]
  },
  {
   "cell_type": "markdown",
   "metadata": {},
   "source": [
    "### Split the data into Training / Test samples\n",
    "- Initial prediction will be based on the features: Lag1, Lag2\n",
    "- Label will be: Direction\n",
    "- Training data set will be from 2001, 1, 10 to 2005, 1, 1\n",
    "- Test data set will be from 2005, 1 , 1 to 2005, 12, 31"
   ]
  },
  {
   "cell_type": "code",
   "execution_count": 101,
   "metadata": {
    "collapsed": true
   },
   "outputs": [],
   "source": [
    "def splitData(data, data_cols=[[\"Lag1\", \"Lag2\"], \"Direction\"], split_point=datetime.datetime(2005,1,1)):\n",
    "    \"\"\"\n",
    "    Specifies the feature and label cols and also splits the data into training/test sets\n",
    "    \"\"\"\n",
    "    X = data[data_cols[0]]\n",
    "    y = data[data_cols[1]]\n",
    "    \n",
    "    # Create training and test sets\n",
    "    X_train = X[X.index < split_point]\n",
    "    X_test = X[X.index >= split_point]\n",
    "    y_train = y[y.index < split_point]\n",
    "    y_test = y[y.index >= split_point]\n",
    "    split_data = {\n",
    "        \"X_train\": X_train,\n",
    "        \"X_test\": X_test,\n",
    "        \"y_train\": y_train,\n",
    "        \"y_test\": y_test\n",
    "    }\n",
    "    return split_data\n",
    "    \n",
    "    "
   ]
  },
  {
   "cell_type": "markdown",
   "metadata": {},
   "source": [
    "### Apply ensemble of ML classifier models and observe the confusion matrix and accuracy "
   ]
  },
  {
   "cell_type": "code",
   "execution_count": 108,
   "metadata": {
    "collapsed": true
   },
   "outputs": [],
   "source": [
    "def runClassifierModels(data):\n",
    "    \"\"\"\n",
    "    Create and run an esemble of ML classifier models against the data and predit the return direction of the stocks\n",
    "    \"\"\"\n",
    "    print(\"Hit Rates/Confusion Matrices:\\n\")\n",
    "    models = [(\"LR\", LogisticRegression()), \n",
    "              (\"LDA\", LDA()), \n",
    "              (\"QDA\", QDA()),\n",
    "              (\"LSVC\", LinearSVC()),\n",
    "              (\"RSVM\", SVC(\n",
    "              \tC=1000000.0, cache_size=200, class_weight=None,\n",
    "                coef0=0.0, degree=3, gamma=0.0001, kernel='rbf',\n",
    "                max_iter=-1, probability=False, random_state=None,\n",
    "                shrinking=True, tol=0.001, verbose=False)\n",
    "              ),\n",
    "              (\"RF\", RandomForestClassifier(\n",
    "              \tn_estimators=1000, criterion='gini', \n",
    "                max_depth=None, min_samples_split=2, \n",
    "                min_samples_leaf=1, max_features='auto', \n",
    "                bootstrap=True, oob_score=False, n_jobs=1, \n",
    "                random_state=None, verbose=0)\n",
    "              ),\n",
    "              (\"MPL\",MLPClassifier(solver='lbfgs', alpha=1e-5,\n",
    "                hidden_layer_sizes=(10,5), random_state=1))\n",
    "             ]\n",
    "\n",
    "    # Iterate through the models\n",
    "    for m in models:\n",
    "        \n",
    "        # Train each of the models on the training set\n",
    "        m[1].fit(data[\"X_train\"], data[\"y_train\"])\n",
    "\n",
    "        # Make an array of predictions on the test set\n",
    "        pred = m[1].predict(data[\"X_test\"])\n",
    "\n",
    "        # Output the hit-rate and the confusion matrix for each model\n",
    "        print(\"Accuracy for Model [{0}] : {1}\".format(m[0], m[1].score(data[\"X_test\"], data[\"y_test\"])))\n",
    "        print(\"Confusion Matrix: \\n{}\".format(confusion_matrix(pred, data[\"y_test\"])))\n",
    "            "
   ]
  },
  {
   "cell_type": "code",
   "execution_count": 109,
   "metadata": {},
   "outputs": [
    {
     "name": "stdout",
     "output_type": "stream",
     "text": [
      "Hit Rates/Confusion Matrices:\n",
      "\n",
      "Accuracy for Model [LR] : 0.559523809524\n",
      "Confusion Matrix: \n",
      "[[ 35  35]\n",
      " [ 76 106]]\n",
      "Accuracy for Model [LDA] : 0.559523809524\n",
      "Confusion Matrix: \n",
      "[[ 35  35]\n",
      " [ 76 106]]\n",
      "Accuracy for Model [QDA] : 0.599206349206\n",
      "Confusion Matrix: \n",
      "[[ 30  20]\n",
      " [ 81 121]]\n",
      "Accuracy for Model [LSVC] : 0.559523809524\n",
      "Confusion Matrix: \n",
      "[[ 35  35]\n",
      " [ 76 106]]\n",
      "Accuracy for Model [RSVM] : 0.575396825397\n",
      "Confusion Matrix: \n",
      "[[  8   4]\n",
      " [103 137]]\n",
      "Accuracy for Model [RF] : 0.507936507937\n",
      "Confusion Matrix: \n",
      "[[48 61]\n",
      " [63 80]]\n",
      "Accuracy for Model [MPL] : 0.539682539683\n",
      "Confusion Matrix: \n",
      "[[48 53]\n",
      " [63 88]]\n"
     ]
    }
   ],
   "source": [
    "split_data = splitData(s_p_500_data)\n",
    "# print(split_data[\"X_test\"].shape)\n",
    "# print(split_data[\"y_test\"].shape)\n",
    "runClassifierModels(split_data)"
   ]
  },
  {
   "cell_type": "code",
   "execution_count": null,
   "metadata": {
    "collapsed": true
   },
   "outputs": [],
   "source": []
  },
  {
   "cell_type": "code",
   "execution_count": 35,
   "metadata": {},
   "outputs": [
    {
     "data": {
      "text/html": [
       "<div>\n",
       "<table border=\"1\" class=\"dataframe\">\n",
       "  <thead>\n",
       "    <tr style=\"text-align: right;\">\n",
       "      <th></th>\n",
       "      <th>adjclose</th>\n",
       "      <th>close</th>\n",
       "      <th>date</th>\n",
       "      <th>high</th>\n",
       "      <th>low</th>\n",
       "      <th>open</th>\n",
       "      <th>volume</th>\n",
       "    </tr>\n",
       "  </thead>\n",
       "  <tbody>\n",
       "    <tr>\n",
       "      <th>0</th>\n",
       "      <td>152.089996</td>\n",
       "      <td>152.089996</td>\n",
       "      <td>2018-03-22</td>\n",
       "      <td>155.249893</td>\n",
       "      <td>152.000000</td>\n",
       "      <td>155.000000</td>\n",
       "      <td>4742352</td>\n",
       "    </tr>\n",
       "    <tr>\n",
       "      <th>1</th>\n",
       "      <td>156.690002</td>\n",
       "      <td>156.690002</td>\n",
       "      <td>2018-03-21</td>\n",
       "      <td>158.199997</td>\n",
       "      <td>155.919998</td>\n",
       "      <td>156.570007</td>\n",
       "      <td>3240700</td>\n",
       "    </tr>\n",
       "    <tr>\n",
       "      <th>2</th>\n",
       "      <td>156.199997</td>\n",
       "      <td>156.199997</td>\n",
       "      <td>2018-03-20</td>\n",
       "      <td>157.929993</td>\n",
       "      <td>155.289993</td>\n",
       "      <td>157.520004</td>\n",
       "      <td>4336700</td>\n",
       "    </tr>\n",
       "    <tr>\n",
       "      <th>3</th>\n",
       "      <td>157.350006</td>\n",
       "      <td>157.350006</td>\n",
       "      <td>2018-03-19</td>\n",
       "      <td>159.889999</td>\n",
       "      <td>156.449997</td>\n",
       "      <td>159.710007</td>\n",
       "      <td>5482000</td>\n",
       "    </tr>\n",
       "    <tr>\n",
       "      <th>4</th>\n",
       "      <td>160.259995</td>\n",
       "      <td>160.259995</td>\n",
       "      <td>2018-03-16</td>\n",
       "      <td>161.979996</td>\n",
       "      <td>159.639999</td>\n",
       "      <td>160.059998</td>\n",
       "      <td>9262700</td>\n",
       "    </tr>\n",
       "  </tbody>\n",
       "</table>\n",
       "</div>"
      ],
      "text/plain": [
       "     adjclose       close       date        high         low        open  \\\n",
       "0  152.089996  152.089996 2018-03-22  155.249893  152.000000  155.000000   \n",
       "1  156.690002  156.690002 2018-03-21  158.199997  155.919998  156.570007   \n",
       "2  156.199997  156.199997 2018-03-20  157.929993  155.289993  157.520004   \n",
       "3  157.350006  157.350006 2018-03-19  159.889999  156.449997  159.710007   \n",
       "4  160.259995  160.259995 2018-03-16  161.979996  159.639999  160.059998   \n",
       "\n",
       "    volume  \n",
       "0  4742352  \n",
       "1  3240700  \n",
       "2  4336700  \n",
       "3  5482000  \n",
       "4  9262700  "
      ]
     },
     "execution_count": 35,
     "metadata": {},
     "output_type": "execute_result"
    }
   ],
   "source": [
    "# import pandas_datareader as pdr\n",
    "\n",
    "# import datetime\n",
    "\n",
    "# start = datetime.datetime(2018,1,1)\n",
    "\n",
    "# end = datetime.date.today()\n",
    "\n",
    "# baba = pdr.get_data_yahoo('BABA', start, end)\n",
    "\n",
    "# baba\n",
    "%run Yahoo_Stock_Prices.ipynb\n",
    "import datetime\n",
    "\n",
    "# Get IBM's stock prices for 2017/1/1 - current date\n",
    "df_stocks = get_historical_prices(ticker=\"IBM\",\n",
    "                                                                 start_date=datetime.datetime(2017,1,1),\n",
    "                                                                 end_date=datetime.datetime.now())\n",
    "\n",
    "df_stocks.head()"
   ]
  },
  {
   "cell_type": "code",
   "execution_count": null,
   "metadata": {
    "collapsed": true
   },
   "outputs": [],
   "source": []
  }
 ],
 "metadata": {
  "kernelspec": {
   "display_name": "Python 3",
   "language": "python",
   "name": "python3"
  },
  "language_info": {
   "codemirror_mode": {
    "name": "ipython",
    "version": 3
   },
   "file_extension": ".py",
   "mimetype": "text/x-python",
   "name": "python",
   "nbconvert_exporter": "python",
   "pygments_lexer": "ipython3",
   "version": "3.5.4"
  }
 },
 "nbformat": 4,
 "nbformat_minor": 2
}
